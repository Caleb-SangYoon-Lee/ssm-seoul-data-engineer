{
 "cells": [
  {
   "cell_type": "code",
   "execution_count": 1,
   "id": "c4ccd9af-8156-473f-9be4-55efb4aed56e",
   "metadata": {},
   "outputs": [
    {
     "data": {
      "text/html": [
       "\n",
       "            <div>\n",
       "                <p><b>SparkSession - in-memory</b></p>\n",
       "                \n",
       "        <div>\n",
       "            <p><b>SparkContext</b></p>\n",
       "\n",
       "            <p><a href=\"http://e68a39695aae:4040\">Spark UI</a></p>\n",
       "\n",
       "            <dl>\n",
       "              <dt>Version</dt>\n",
       "                <dd><code>v3.2.1</code></dd>\n",
       "              <dt>Master</dt>\n",
       "                <dd><code>local[*]</code></dd>\n",
       "              <dt>AppName</dt>\n",
       "                <dd><code>Data Engineer Training Course</code></dd>\n",
       "            </dl>\n",
       "        </div>\n",
       "        \n",
       "            </div>\n",
       "        "
      ],
      "text/plain": [
       "<pyspark.sql.session.SparkSession at 0x7fdaf390c910>"
      ]
     },
     "execution_count": 1,
     "metadata": {},
     "output_type": "execute_result"
    }
   ],
   "source": [
    "# 코어 스파크 라이브러리를 임포트 합니다\n",
    "from pyspark.sql import *\n",
    "from pyspark.sql.functions import *\n",
    "from pyspark.sql.types import *\n",
    "from IPython.display import display, display_pretty, clear_output, JSON\n",
    "\n",
    "spark = (\n",
    "    SparkSession\n",
    "    .builder\n",
    "    .appName(\"Data Engineer Training Course\")\n",
    "    .config(\"spark.sql.session.timeZone\", \"Asia/Seoul\")\n",
    "    .getOrCreate()\n",
    ")\n",
    "\n",
    "# 노트북에서 테이블 형태로 데이터 프레임 출력을 위한 설정을 합니다\n",
    "from IPython.display import display, display_pretty, clear_output, JSON\n",
    "spark.conf.set(\"spark.sql.repl.eagerEval.enabled\", True) # display enabled\n",
    "spark.conf.set(\"spark.sql.repl.eagerEval.truncate\", 100) # display output columns size\n",
    "\n",
    "# 공통 데이터 위치\n",
    "home_jovyan = \"/home/jovyan\"\n",
    "work_data = f\"{home_jovyan}/work/data\"\n",
    "work_dir=!pwd\n",
    "work_dir = work_dir[0]\n",
    "\n",
    "# 로컬 환경 최적화\n",
    "spark.conf.set(\"spark.sql.shuffle.partitions\", 5) # the number of partitions to use when shuffling data for joins or aggregations.\n",
    "spark.conf.set(\"spark.sql.streaming.forceDeleteTempCheckpointLocation\", \"true\")\n",
    "spark"
   ]
  },
  {
   "cell_type": "code",
   "execution_count": 14,
   "id": "3bf629b0-c4d7-4a6f-b1eb-1248dfab0c62",
   "metadata": {},
   "outputs": [
    {
     "name": "stdout",
     "output_type": "stream",
     "text": [
      "root\n",
      " |-- hello: string (nullable = true)\n",
      " |-- id: long (nullable = true)\n",
      " |-- time: string (nullable = true)\n",
      " |-- mod_id: long (nullable = true)\n",
      "\n",
      "+---------+---+-------------------+------+\n",
      "|hello    |id |time               |mod_id|\n",
      "+---------+---+-------------------+------+\n",
      "|ssm-seoul|100|2022-09-30 20:59:19|0     |\n",
      "|ssm-seoul|101|2022-09-30 20:59:20|1     |\n",
      "|ssm-seoul|102|2022-09-30 20:59:21|2     |\n",
      "|ssm-seoul|103|2022-09-30 20:59:22|3     |\n",
      "|ssm-seoul|104|2022-09-30 20:59:23|4     |\n",
      "|ssm-seoul|105|2022-09-30 20:59:24|5     |\n",
      "|ssm-seoul|106|2022-09-30 20:59:25|6     |\n",
      "|ssm-seoul|107|2022-09-30 20:59:26|7     |\n",
      "|ssm-seoul|108|2022-09-30 20:59:27|8     |\n",
      "|ssm-seoul|109|2022-09-30 20:59:28|9     |\n",
      "|ssm-seoul|110|2022-09-30 20:59:29|0     |\n",
      "|ssm-seoul|111|2022-09-30 20:59:30|1     |\n",
      "|ssm-seoul|112|2022-09-30 20:59:31|2     |\n",
      "|ssm-seoul|113|2022-09-30 20:59:32|3     |\n",
      "|ssm-seoul|114|2022-09-30 20:59:33|4     |\n",
      "|ssm-seoul|115|2022-09-30 20:59:34|5     |\n",
      "|ssm-seoul|116|2022-09-30 20:59:35|6     |\n",
      "|ssm-seoul|117|2022-09-30 20:59:36|7     |\n",
      "|ssm-seoul|118|2022-09-30 20:59:37|8     |\n",
      "|ssm-seoul|119|2022-09-30 20:59:38|9     |\n",
      "+---------+---+-------------------+------+\n",
      "only showing top 20 rows\n",
      "\n"
     ]
    }
   ],
   "source": [
    "streamLogs = (\n",
    "    spark\n",
    "    .read\n",
    "    .option(\"inferSchema\", \"true\")\n",
    "    .json(\"/fluentd/target/lambda/batch\")\n",
    ").withColumn(\"mod_id\", expr(\"id % 10\"))\n",
    "streamLogs.printSchema()\n",
    "streamLogs.show(truncate=False)"
   ]
  },
  {
   "cell_type": "code",
   "execution_count": 10,
   "id": "e7d83502-3802-4126-851b-056685a34ec2",
   "metadata": {},
   "outputs": [
    {
     "name": "stdout",
     "output_type": "stream",
     "text": [
      "root\n",
      " |-- name: string (nullable = true)\n",
      " |-- uid: long (nullable = true)\n",
      "\n",
      "+-----+---+\n",
      "|name |uid|\n",
      "+-----+---+\n",
      "|zero |0  |\n",
      "|one  |1  |\n",
      "|two  |2  |\n",
      "|three|3  |\n",
      "|four |4  |\n",
      "|five |5  |\n",
      "+-----+---+\n",
      "\n"
     ]
    }
   ],
   "source": [
    "namePath = f\"{work_dir}/data/names\"\n",
    "nameStatic = (\n",
    "    spark\n",
    "    .read\n",
    "    .option(\"inferSchema\", \"true\")\n",
    "    .json(namePath)\n",
    ")\n",
    "nameStatic.printSchema()\n",
    "nameStatic.show(truncate=False)"
   ]
  },
  {
   "cell_type": "code",
   "execution_count": 15,
   "id": "fdb04ac0-1cc9-4724-b1ac-9e519faece0e",
   "metadata": {},
   "outputs": [
    {
     "name": "stdout",
     "output_type": "stream",
     "text": [
      "root\n",
      " |-- hello: string (nullable = true)\n",
      " |-- id: long (nullable = true)\n",
      " |-- time: string (nullable = true)\n",
      " |-- mod_id: long (nullable = true)\n",
      " |-- name: string (nullable = true)\n",
      " |-- uid: long (nullable = true)\n",
      "\n",
      "+---------+---+-------------------+------+-----+----+\n",
      "|hello    |id |time               |mod_id|name |uid |\n",
      "+---------+---+-------------------+------+-----+----+\n",
      "|ssm-seoul|100|2022-09-30 20:59:19|0     |zero |0   |\n",
      "|ssm-seoul|101|2022-09-30 20:59:20|1     |one  |1   |\n",
      "|ssm-seoul|102|2022-09-30 20:59:21|2     |two  |2   |\n",
      "|ssm-seoul|103|2022-09-30 20:59:22|3     |three|3   |\n",
      "|ssm-seoul|104|2022-09-30 20:59:23|4     |four |4   |\n",
      "|ssm-seoul|105|2022-09-30 20:59:24|5     |five |5   |\n",
      "|ssm-seoul|106|2022-09-30 20:59:25|6     |null |null|\n",
      "|ssm-seoul|107|2022-09-30 20:59:26|7     |null |null|\n",
      "|ssm-seoul|108|2022-09-30 20:59:27|8     |null |null|\n",
      "|ssm-seoul|109|2022-09-30 20:59:28|9     |null |null|\n",
      "+---------+---+-------------------+------+-----+----+\n",
      "only showing top 10 rows\n",
      "\n"
     ]
    }
   ],
   "source": [
    "expression = streamLogs.mod_id == nameStatic.uid\n",
    "staticJoin = streamLogs.join(nameStatic, expression, \"leftOuter\")\n",
    "staticJoin.printSchema()\n",
    "staticJoin.show(10, truncate=False)"
   ]
  },
  {
   "cell_type": "code",
   "execution_count": 25,
   "id": "db0c99cc-5e61-4ffd-ae81-3a396f1ad692",
   "metadata": {},
   "outputs": [
    {
     "name": "stdout",
     "output_type": "stream",
     "text": [
      "+---------+-------+-------------------+---------+----+\n",
      "|hello    |user_id|time               |user_name|uid |\n",
      "+---------+-------+-------------------+---------+----+\n",
      "|ssm-seoul|100    |2022-09-30 20:59:19|zero     |0   |\n",
      "|ssm-seoul|101    |2022-09-30 20:59:20|one      |1   |\n",
      "|ssm-seoul|102    |2022-09-30 20:59:21|two      |2   |\n",
      "|ssm-seoul|103    |2022-09-30 20:59:22|three    |3   |\n",
      "|ssm-seoul|104    |2022-09-30 20:59:23|four     |4   |\n",
      "|ssm-seoul|105    |2022-09-30 20:59:24|five     |5   |\n",
      "|ssm-seoul|106    |2022-09-30 20:59:25|null     |null|\n",
      "|ssm-seoul|107    |2022-09-30 20:59:26|null     |null|\n",
      "|ssm-seoul|108    |2022-09-30 20:59:27|null     |null|\n",
      "|ssm-seoul|109    |2022-09-30 20:59:28|null     |null|\n",
      "|ssm-seoul|110    |2022-09-30 20:59:29|zero     |0   |\n",
      "|ssm-seoul|111    |2022-09-30 20:59:30|one      |1   |\n",
      "|ssm-seoul|112    |2022-09-30 20:59:31|two      |2   |\n",
      "|ssm-seoul|113    |2022-09-30 20:59:32|three    |3   |\n",
      "|ssm-seoul|114    |2022-09-30 20:59:33|four     |4   |\n",
      "|ssm-seoul|115    |2022-09-30 20:59:34|five     |5   |\n",
      "|ssm-seoul|116    |2022-09-30 20:59:35|null     |null|\n",
      "|ssm-seoul|117    |2022-09-30 20:59:36|null     |null|\n",
      "|ssm-seoul|118    |2022-09-30 20:59:37|null     |null|\n",
      "|ssm-seoul|119    |2022-09-30 20:59:38|null     |null|\n",
      "+---------+-------+-------------------+---------+----+\n",
      "only showing top 20 rows\n",
      "\n"
     ]
    }
   ],
   "source": [
    "# \"time\", \"id as user_id\", \"name as user_name\", \"hello\", \"uid\"\n",
    "\n",
    "staticResult = (\n",
    "    staticJoin\n",
    "    .withColumnRenamed(\"id\", \"user_id\")\n",
    "    .withColumnRenamed(\"name\", \"user_name\")\n",
    "    .drop(\"mod_id\")\n",
    ")\n",
    "staticResult.show(truncate=False)"
   ]
  },
  {
   "cell_type": "code",
   "execution_count": 26,
   "id": "2bb3736d-472c-4776-8703-783e442731b4",
   "metadata": {},
   "outputs": [],
   "source": [
    "staticResult.write.mode(\"overwrite\").json(f\"{work_dir}/tmp/output\")"
   ]
  },
  {
   "cell_type": "code",
   "execution_count": null,
   "id": "6ccfe7c5-e37f-4fb4-af6b-31e03aaedec9",
   "metadata": {},
   "outputs": [],
   "source": []
  }
 ],
 "metadata": {
  "kernelspec": {
   "display_name": "Python 3 (ipykernel)",
   "language": "python",
   "name": "python3"
  },
  "language_info": {
   "codemirror_mode": {
    "name": "ipython",
    "version": 3
   },
   "file_extension": ".py",
   "mimetype": "text/x-python",
   "name": "python",
   "nbconvert_exporter": "python",
   "pygments_lexer": "ipython3",
   "version": "3.9.12"
  }
 },
 "nbformat": 4,
 "nbformat_minor": 5
}
