{
 "cells": [
  {
   "cell_type": "code",
   "execution_count": 7,
   "id": "d18f2b39-5f97-41d0-9c9a-31ec0b7a2bda",
   "metadata": {},
   "outputs": [
    {
     "data": {
      "text/html": [
       "\n",
       "            <div>\n",
       "                <p><b>SparkSession - in-memory</b></p>\n",
       "                \n",
       "        <div>\n",
       "            <p><b>SparkContext</b></p>\n",
       "\n",
       "            <p><a href=\"http://bc7df2c387a2:4040\">Spark UI</a></p>\n",
       "\n",
       "            <dl>\n",
       "              <dt>Version</dt>\n",
       "                <dd><code>v3.2.1</code></dd>\n",
       "              <dt>Master</dt>\n",
       "                <dd><code>local[*]</code></dd>\n",
       "              <dt>AppName</dt>\n",
       "                <dd><code>pyspark-shell</code></dd>\n",
       "            </dl>\n",
       "        </div>\n",
       "        \n",
       "            </div>\n",
       "        "
      ],
      "text/plain": [
       "<pyspark.sql.session.SparkSession at 0x7f2084606460>"
      ]
     },
     "execution_count": 7,
     "metadata": {},
     "output_type": "execute_result"
    }
   ],
   "source": [
    "from pyspark.sql import *\n",
    "from pyspark.sql.functions import *\n",
    "from pyspark.sql.types import *\n",
    "from IPython.display import display, display_pretty, clear_output, JSON\n",
    "\n",
    "spark = (\n",
    "    SparkSession\n",
    "    .builder\n",
    "    .config(\"spark.sql.session.timeZone\", \"Asia/Seoul\")\n",
    "    .getOrCreate()\n",
    ")\n",
    "\n",
    "# 노트북에서 테이블 형태로 데이터 프레임 출력을 위한 설정을 합니다\n",
    "spark.conf.set(\"spark.sql.repl.eagerEval.enabled\", True) # display enabled\n",
    "spark.conf.set(\"spark.sql.repl.eagerEval.truncate\", 100) # display output columns size\n",
    "\n",
    "# 공통 데이터 위치\n",
    "home_jovyan = \"/home/jovyan\"\n",
    "work_data = f\"{home_jovyan}/work/data\"\n",
    "work_dir=!pwd\n",
    "work_dir = work_dir[0]\n",
    "\n",
    "# 로컬 환경 최적화\n",
    "spark.conf.set(\"spark.sql.shuffle.partitions\", 5) # the number of partitions to use when shuffling data for joins or aggregations.\n",
    "spark.conf.set(\"spark.sql.streaming.forceDeleteTempCheckpointLocation\", \"true\")\n",
    "\n",
    "# 현재 기동된 스파크 애플리케이션의 포트를 확인하기 위해 스파크 정보를 출력합니다\n",
    "spark"
   ]
  },
  {
   "cell_type": "code",
   "execution_count": 8,
   "id": "2b0e4035-38f0-474e-8000-faf2d4c4802d",
   "metadata": {},
   "outputs": [],
   "source": [
    "# 스트림 테이블을 주기적으로 조회하는 함수 (name: 이름, sql: Spark SQL, iterations: 반복횟수, sleep_secs: 인터벌)\n",
    "def displayStream(name, sql, iterations, sleep_secs):\n",
    "    from time import sleep\n",
    "    i = 1\n",
    "    for x in range(iterations):\n",
    "        clear_output(wait=True)              # 출력 Cell 을 지웁니다\n",
    "        display('[' + name + '] Iteration: '+str(i)+', Query: '+sql)\n",
    "        display(spark.sql(sql))              # Spark SQL 을 수행합니다\n",
    "        sleep(sleep_secs)                    # sleep_secs 초 만큼 대기합니다\n",
    "        i += 1\n",
    "\n",
    "# 스트림 쿼리의 상태를 주기적으로 조회하는 함수 (name: 이름, query: Streaming Query, iterations: 반복횟수, sleep_secs: 인터벌)\n",
    "def displayStatus(name, query, iterations, sleep_secs):\n",
    "    from time import sleep\n",
    "    i = 1\n",
    "    for x in range(iterations):\n",
    "        clear_output(wait=True)      # Output Cell 의 내용을 지웁니다\n",
    "        display('[' + name + '] Iteration: '+str(i)+', Status: '+query.status['message'])\n",
    "        display(query.lastProgress)  # 마지막 수행된 쿼리의 상태를 출력합니다\n",
    "        sleep(sleep_secs)            # 지정된 시간(초)을 대기합니다\n",
    "        i += 1"
   ]
  },
  {
   "cell_type": "code",
   "execution_count": 9,
   "id": "37d8b8bc-13c5-43a5-81f2-c8307e44582c",
   "metadata": {},
   "outputs": [
    {
     "name": "stdout",
     "output_type": "stream",
     "text": [
      "root\n",
      " |-- key: binary (nullable = true)\n",
      " |-- value: binary (nullable = true)\n",
      " |-- topic: string (nullable = true)\n",
      " |-- partition: integer (nullable = true)\n",
      " |-- offset: long (nullable = true)\n",
      " |-- timestamp: timestamp (nullable = true)\n",
      " |-- timestampType: integer (nullable = true)\n",
      "\n",
      "root\n",
      " |-- mod_id: long (nullable = true)\n",
      " |-- id: long (nullable = true)\n",
      " |-- hello: string (nullable = true)\n",
      " |-- time: string (nullable = true)\n",
      "\n"
     ]
    }
   ],
   "source": [
    "source_topic = \"events\"\n",
    "source_offset = \"latest\"\n",
    "query_name = \"kafka_sink\"\n",
    "sink_topic = \"events_stage\"\n",
    "\n",
    "kafkaReader = (\n",
    "    spark\n",
    "  .readStream\n",
    "  .format(\"kafka\")\n",
    "  .option(\"kafka.bootstrap.servers\", \"kafka:9093\")\n",
    "  .option(\"subscribe\", source_topic)\n",
    "  .option(\"startingOffsets\", source_offset)\n",
    "  .load()\n",
    ")\n",
    "kafkaReader.printSchema()\n",
    "\n",
    "kafkaSchema = (\n",
    "    StructType()\n",
    "    .add(StructField(\"id\", LongType()))\n",
    "    .add(StructField(\"hello\", StringType()))\n",
    "    .add(StructField(\"time\", StringType()))\n",
    ")\n",
    "\n",
    "kafkaSelector = (\n",
    "    kafkaReader\n",
    "    .select(\n",
    "        col(\"key\").cast(\"string\"),\n",
    "        from_json(col(\"value\").cast(\"string\"), kafkaSchema).alias(\"events\")\n",
    "    )\n",
    "    .selectExpr(\"events.id % 10 as mod_id\", \"events.*\")\n",
    ")\n",
    "\n",
    "kafkaSelector.printSchema()"
   ]
  },
  {
   "cell_type": "code",
   "execution_count": 10,
   "id": "499824f1-177b-468d-9d78-91f176af8491",
   "metadata": {},
   "outputs": [
    {
     "name": "stdout",
     "output_type": "stream",
     "text": [
      "root\n",
      " |-- name: string (nullable = true)\n",
      " |-- uid: long (nullable = true)\n",
      "\n",
      "+-----+---+\n",
      "|name |uid|\n",
      "+-----+---+\n",
      "|zero |0  |\n",
      "|one  |1  |\n",
      "|two  |2  |\n",
      "|three|3  |\n",
      "|four |4  |\n",
      "|five |5  |\n",
      "|six  |6  |\n",
      "|seven|7  |\n",
      "|eight|8  |\n",
      "|nine |9  |\n",
      "+-----+---+\n",
      "\n"
     ]
    }
   ],
   "source": [
    "namePath = f\"{work_dir}/data/names\"\n",
    "nameStatic = (\n",
    "    spark\n",
    "    .read\n",
    "    .option(\"inferSchema\", \"true\")\n",
    "    .json(namePath)\n",
    ")\n",
    "nameStatic.printSchema()\n",
    "nameStatic.show(truncate=False)"
   ]
  },
  {
   "cell_type": "code",
   "execution_count": 11,
   "id": "f9d0f952-0609-4b11-bea6-84b6347e72ed",
   "metadata": {},
   "outputs": [],
   "source": [
    "joinExpression = (kafkaSelector.mod_id == nameStatic.uid)\n",
    "kappaSelector = kafkaSelector.join(nameStatic, joinExpression, \"leftOuter\")"
   ]
  },
  {
   "cell_type": "code",
   "execution_count": null,
   "id": "87ce2c8f-aae8-42ec-b09e-0f5e946d28a1",
   "metadata": {},
   "outputs": [],
   "source": [
    "# query_name = \"memorySink\"\n",
    "# staticWriter = (\n",
    "#     kappaSelector\n",
    "#     .selectExpr(\"time\", \"id as user_id\", \"name as user_name\", \"hello\", \"uid\")\n",
    "#     .selectExpr(\"user_id as key\", \"to_json(struct(*)) as value\")\n",
    "#     .writeStream\n",
    "#     .queryName(query_name)\n",
    "#     .format(\"memory\")\n",
    "#     .outputMode(\"append\")\n",
    "# )\n",
    "\n",
    "# checkpointLocation = f\"{work_dir}/tmp/{query_name}\"\n",
    "# !rm -rf $checkpointLocation\n",
    "\n",
    "# staticTrigger = (\n",
    "#     staticWriter\n",
    "#     .trigger(processingTime=\"5 second\")\n",
    "#     .option(\"checkpointLocation\", checkpointLocation)\n",
    "# )"
   ]
  },
  {
   "cell_type": "code",
   "execution_count": null,
   "id": "c0f458e4-e856-42a5-b62f-3e28b737eb51",
   "metadata": {
    "tags": []
   },
   "outputs": [],
   "source": [
    "# staticQuery = staticTrigger.start()\n",
    "# displayStream(query_name, f\"select * from {query_name} order by key desc\", 40, 5)\n",
    "# staticQuery.explain(True)\n",
    "# staticQuery.stop()"
   ]
  },
  {
   "cell_type": "code",
   "execution_count": null,
   "id": "e63a5d50-1235-43b6-9107-99adf50e8c1e",
   "metadata": {},
   "outputs": [],
   "source": [
    "# !rm -rf $checkpointLocation\n",
    "# staticQuery.stop()"
   ]
  },
  {
   "cell_type": "code",
   "execution_count": 13,
   "id": "ff37a6e0-49f0-43f3-b965-d5f782e6443b",
   "metadata": {},
   "outputs": [],
   "source": [
    "staticWriter = (\n",
    "    kappaSelector\n",
    "    .selectExpr(\"time\", \"id as user_id\", \"name as user_name\", \"hello\", \"uid\")\n",
    "    .selectExpr(\"cast(user_id as string) as key\", \"to_json(struct(*)) as value\")\n",
    "    .writeStream\n",
    "    .queryName(query_name)\n",
    "    .format(\"kafka\")\n",
    "    .option(\"kafka.bootstrap.servers\", \"kafka:9093\")\n",
    "    .option(\"topic\", sink_topic)\n",
    "    .outputMode(\"append\")\n",
    ")\n",
    "\n",
    "checkpointLocation = f\"{work_dir}/tmp/{query_name}\"\n",
    "!rm -rf $checkpointLocation\n",
    "\n",
    "staticTrigger = (\n",
    "    staticWriter\n",
    "    .trigger(processingTime=\"5 second\")\n",
    "    .option(\"checkpointLocation\", checkpointLocation)\n",
    ")"
   ]
  },
  {
   "cell_type": "code",
   "execution_count": 15,
   "id": "902f3083-821b-4f76-8131-f9981de6936c",
   "metadata": {
    "tags": []
   },
   "outputs": [
    {
     "data": {
      "text/plain": [
       "'[kafkaSink] Iteration: 1000, Status: Processing new data'"
      ]
     },
     "metadata": {},
     "output_type": "display_data"
    },
    {
     "data": {
      "text/plain": [
       "{'id': '7ae7ea73-13f6-4b9b-9ffb-450c85c2f465',\n",
       " 'runId': '6687ebf7-5590-4825-9225-a5129f9e12d2',\n",
       " 'name': 'kafkaSink',\n",
       " 'timestamp': '2022-10-01T00:35:55.001Z',\n",
       " 'batchId': 1319,\n",
       " 'numInputRows': 4,\n",
       " 'inputRowsPerSecond': 0.7998400319936012,\n",
       " 'processedRowsPerSecond': 5.813953488372094,\n",
       " 'durationMs': {'addBatch': 570,\n",
       "  'getBatch': 1,\n",
       "  'latestOffset': 1,\n",
       "  'queryPlanning': 5,\n",
       "  'triggerExecution': 688,\n",
       "  'walCommit': 65},\n",
       " 'stateOperators': [],\n",
       " 'sources': [{'description': 'KafkaV2[Subscribe[events]]',\n",
       "   'startOffset': {'events': {'0': 7215}},\n",
       "   'endOffset': {'events': {'0': 7219}},\n",
       "   'latestOffset': {'events': {'0': 7219}},\n",
       "   'numInputRows': 4,\n",
       "   'inputRowsPerSecond': 0.7998400319936012,\n",
       "   'processedRowsPerSecond': 5.813953488372094,\n",
       "   'metrics': {'avgOffsetsBehindLatest': '0.0',\n",
       "    'maxOffsetsBehindLatest': '0',\n",
       "    'minOffsetsBehindLatest': '0'}}],\n",
       " 'sink': {'description': 'org.apache.spark.sql.kafka010.KafkaSourceProvider$KafkaTable@28c98734',\n",
       "  'numOutputRows': 4}}"
      ]
     },
     "metadata": {},
     "output_type": "display_data"
    }
   ],
   "source": [
    "staticQuery = staticTrigger.start()\n",
    "displayStatus(query_name, staticQuery, 1000, 6)\n",
    "staticQuery.stop()"
   ]
  },
  {
   "cell_type": "code",
   "execution_count": null,
   "id": "4e610e87-27ad-4076-9f0d-3a6e9c2357d4",
   "metadata": {},
   "outputs": [],
   "source": []
  }
 ],
 "metadata": {
  "kernelspec": {
   "display_name": "Python 3 (ipykernel)",
   "language": "python",
   "name": "python3"
  },
  "language_info": {
   "codemirror_mode": {
    "name": "ipython",
    "version": 3
   },
   "file_extension": ".py",
   "mimetype": "text/x-python",
   "name": "python",
   "nbconvert_exporter": "python",
   "pygments_lexer": "ipython3",
   "version": "3.9.12"
  }
 },
 "nbformat": 4,
 "nbformat_minor": 5
}
